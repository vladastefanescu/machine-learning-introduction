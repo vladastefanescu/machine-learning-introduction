{
  "nbformat": 4,
  "nbformat_minor": 0,
  "metadata": {
    "colab": {
      "name": "Machine Learning Introduction.ipynb",
      "provenance": [],
      "collapsed_sections": [],
      "include_colab_link": true
    },
    "kernelspec": {
      "name": "python3",
      "display_name": "Python 3"
    },
    "language_info": {
      "name": "python"
    }
  },
  "cells": [
    {
      "cell_type": "markdown",
      "metadata": {
        "id": "view-in-github",
        "colab_type": "text"
      },
      "source": [
        "<a href=\"https://colab.research.google.com/github/vladastefanescu/machine-learning-introduction/blob/main/Machine_Learning_Introduction.ipynb\" target=\"_parent\"><img src=\"https://colab.research.google.com/assets/colab-badge.svg\" alt=\"Open In Colab\"/></a>"
      ]
    },
    {
      "cell_type": "markdown",
      "metadata": {
        "id": "6SQCVuhLAgJ6"
      },
      "source": [
        "# <center>Performance Evaluation in Machine Learning</center>"
      ]
    },
    {
      "cell_type": "markdown",
      "metadata": {
        "id": "G3Acp-WI-n9Q"
      },
      "source": [
        "## 1. Introduction\n",
        "\n",
        "Just like chess players improve their technique by watching hundreds of games from top players, computers can be able to perform certain tasks by “looking” at data. These computers are sometimes called “**machines**” and this data observation step is also known as “**learning**”. Simple, isn’t it? So let’s define “**Machine Learning**” (ML) more formally, as stated by Tom Mitchell. A program is said to learn from experience E with respect to some task T and some performance measure P, if its performance on T, as measured by P, improves with experience E. Let’s get more **-h** and provide an example. Say that T is the process of playing chess, E is a set of chess matches on which the algorithm was trained and P is the probability for the program to win the next game of chess.\n",
        "\n",
        "What is truly important however, is that machine learning algorithms, unlike traditional ones, are not required to be pre-programmed explicitly to solve a particular task. Just like in the previous example, they **learn** from the data fed into them and afterwards, are able to **predict** results for new scenarios. As you might expect, this isn’t just black magic. The majority of ML algorithms are based on some maths and statistics, but also on a fair amount of engineering. 😎 \n",
        "\n",
        "<br/>\n",
        "\n",
        "![machine-learning-flow](https://miro.medium.com/max/1400/1*E7sk9C5buY9KnBUDflI9fQ.png)\n",
        "[🌎 &nbsp;Image Source](https://medium.com/@tekaround/train-validation-test-set-in-machine-learning-how-to-understand-6cdd98d4a764)"
      ]
    },
    {
      "cell_type": "markdown",
      "metadata": {
        "id": "9qb_cHSUBdGz"
      },
      "source": [
        "---\n",
        "> ### 🚨🚨🚨 Machine learning algorithms learn from data and they **don’t** have to be programmed explicitly!\n",
        "---\n",
        "\n"
      ]
    },
    {
      "cell_type": "markdown",
      "metadata": {
        "id": "oLzfz9DaExIc"
      },
      "source": [
        "## 2. Supervised Learning vs Unsupervised Learning\n",
        "\n",
        "Generally, in machine learning, there are two types of tasks: **supervised** and **unsupervised**."
      ]
    },
    {
      "cell_type": "markdown",
      "metadata": {
        "id": "6R1yaPwLCWnu"
      },
      "source": [
        "### A. Supervised Learning\n",
        "\n",
        "We refer to the former when we have prior knowledge of what the output of the system should look like. More formally, after going through lots of `(X, y)` pairs, the model should be able to determine that **mapping function** `ĥ` which approximates `f(X) = y` as accurately as possible. In machine learning, the entire set of `(X, y)` pairs is often called **corpus** or **dataset** and an algorithm that learned from this corpus is sometimes called a **trained model** or simply a **model**.\n",
        "\n",
        "For example, let’s say that you want to build a smart car selling platform and you want to provide sellers with the ability to know what should be a “fair price” based on the **specs** and **age** of their cars. For that, you would need to provide your model with a set of tuples that might look like this:\n",
        "\n",
        "`(bhp, fuel_type, displacement, weight, torque, suspension, car_age, car_price)`\n",
        "\n",
        "In this case, **X** is formed from the tuple slices `(bhp, fuel_type, displacement, weight, torque, suspension, car_age)` and each slice component is called a **feature**. Likewise, **y** is represented by the `car_price` and it's usually called **label** or **ground truth**. After learning from the provided corpus, a process that is commonly called **model fitting**, our model should be able to predict an approximation of the car price `ŷ` for new ages and specs **X**.\n",
        "\n",
        "\n",
        "<br/>\n",
        "\n",
        "![supervised-learning](https://bigdata-madesimple.com/wp-content/uploads/2018/02/Machine-Learning-Explained1.png)\n",
        "\n",
        "[🌎 &nbsp;Image Source](https://bigdata-madesimple.com/machine-learning-explained-understanding-supervised-unsupervised-and-reinforcement-learning/)\n",
        "\n",
        "\n"
      ]
    },
    {
      "cell_type": "markdown",
      "metadata": {
        "id": "FfCeTi7XtboS"
      },
      "source": [
        "---\n",
        "> ### 🚨🚨🚨 In the dataset of each **supervised** machine **learning** task, there will always be a **label y** that can be associated with a set of **features X**!\n",
        "---\n",
        "\n",
        "Because a **numerical** or **continuous** output is expected as a result, the aforementioned scenario is an example of a **regression task**. If y was a label that can take the values “cheap”, “fair” or “expensive”, then that would be called a **classification task** and y can also be referred to as a **class**.\n",
        "\n",
        "<br/>\n",
        "\n",
        "![classification-vs-regression](https://ocw.cs.pub.ro/courses/_media/ep/labs/3._classification_vs_regression.png?w=600&tok=f48ebb)\n",
        "\n",
        "[🌎 &nbsp;Image Source](https://towardsdatascience.com/do-you-know-how-to-choose-the-right-machine-learning-algorithm-among-7-different-types-295d0b0c7f60)"
      ]
    },
    {
      "cell_type": "markdown",
      "metadata": {
        "id": "mtDdxuKjtVyY"
      },
      "source": [
        "---\n",
        "> ### 🚨🚨🚨 Two examples of **supervised learning** tasks are **regression** and **classification**!\n",
        "---"
      ]
    },
    {
      "cell_type": "markdown",
      "metadata": {
        "id": "0Xa5b23tGfSG"
      },
      "source": [
        "### B. Unsupervised Learning\n",
        "\n",
        "In the case of **unsupervised learning**, the training data is not labeled anymore, so the machine learning algorithm must take decisions without having a ground truth as reference. That means that your dataset is no longer made out of (X, y) pairs, but only of X entries. Consequently, the job of the model would be to provide meaningful **insights** about those X entries, by finding various **patterns** in the data.\n",
        "\n",
        "<br/>\n",
        "\n",
        "![unsupervised-learning](https://miro.medium.com/max/977/0*1F-c2hszf8NX-7Ku)\n",
        "\n",
        "[🌎 &nbsp;Image Source](https://medium.com/@rahulkaliyath/day-8-intro-to-unsupervised-learning-3821ef1541a)\n",
        "\n",
        "The most common tasks for this learning approach are **clustering algorithms**. In these type of problems, the model must learn how to group various data together, forming **components** or **clusters**. Say that having a table with information about all the Facebook users, you would like to recommend personalized ads for every single person. This sounds like a very difficult task, because there is a huge number of users on the platform. But what if we group users together based on their **traits** (or **features** as your Data Scientist within you might say)? Then, we can suggest the same ads bundle to a whole group of users, making the advertising process easier and cheaper.\n",
        "\n",
        "![unsupervised-learning-example](https://miro.medium.com/max/700/1*af-tNiqd-3_ResjoDOFm5A.png)\n",
        "\n",
        "[🌎 &nbsp;Image Source](https://towardsdatascience.com/introduction-to-machine-learning-for-beginners-eed6024fdb08)\n"
      ]
    },
    {
      "cell_type": "markdown",
      "metadata": {
        "id": "ey7XBkHutz6B"
      },
      "source": [
        "---\n",
        "> ### 🚨🚨🚨 In the dataset of each **unsupervised** machine **learning** task, there will exist **only X** entries used to identify **patterns** and **insights** about data!\n",
        "---"
      ]
    },
    {
      "cell_type": "markdown",
      "metadata": {
        "id": "_IxeJKeiITRq"
      },
      "source": [
        "## 3. Performance Evaluation in Machine Learning\n",
        "\n",
        "Generally, with machine learning algorithms, in the early phase of development, the focus is less on the computational resources (RAM, CPU, IO etc.) and more on the ability of the model to **generalize** well on the data. That means that our algorithm is trained well enough to provide accurate answers for data that has never been seen before (predict a car price for a new car posted on the platform, classify a new vehicle or assign a freshly registered Facebook user to a group). Hence, at first, we try to build a robust and accurate model and then we work towards making it function as computationally inexpensive as possible.\n",
        "\n",
        "---\n",
        "> ### 🚨🚨🚨 In machine learning, traditional evaluation metrics (RAM, CPU, IO) are not used as frequently!\n",
        "---\n"
      ]
    },
    {
      "cell_type": "markdown",
      "metadata": {
        "id": "RQVgt9h5I5lc"
      },
      "source": [
        "### A. Training & Test Sets\n",
        "\n",
        "Evaluating machine learning algorithms is dependent on the type of problem we are trying to solve. But in most cases, we would want to split the data into a **training set** and a **test set**. As the name suggests, the former will be used to actually train the model and the later will be used to verify how well the model generalizes on unseen data. On the most common machine learning tasks, the split ratio ranges from **80-20** to **90-10**, depending on the size of the corpus. When a huge amount of data is operated (say millions or billions of entries), a smaller proportion of the dataset is used as a test set (even 1%) because the actual number of test entries are considered sufficiently numerous. For instance, 1% of 10M entries is 100k and that’s generally regarded as **a lot of data** to test on.\n",
        "\n",
        "![training-set-and-test-set](https://ocw.cs.pub.ro/courses/_media/ep/labs/6._training_and_test_sets.png?w=600&tok=2d3bd9)\n",
        "\n",
        "[🌎 &nbsp;Image Source](https://data-flair.training/blogs/train-test-set-in-python-ml/)\n"
      ]
    },
    {
      "cell_type": "markdown",
      "metadata": {
        "id": "GRlgJASst-yX"
      },
      "source": [
        "---\n",
        "> ### 🚨🚨🚨 In most problems, the data is split into a **training set** used in model training and a **test set** used in performance evaluation!\n",
        "---"
      ]
    },
    {
      "cell_type": "markdown",
      "metadata": {
        "id": "2s2WEJ63KFDO"
      },
      "source": [
        "### B. Classification Problems\n",
        "\n",
        "Let’s begin our performance analysis journey by analyzing a **classification problem**. Let’s suppose that you have a model that was trained to predict whether a given image corresponds to a cat or not. As you already know, this is a **supervised learning** task in which the model must learn to **predict** one of **two classes** - “cat” or “non-cat”. In this case, the model is also called a **binary classifier**.\n",
        "\n",
        "![brittish-shorthair-kitten](https://images.squarespace-cdn.com/content/v1/525a1ae4e4b0b7382f191ee4/1527746265982-2PIBO5N32RF1WKTYACYI/British-Shorthair-kitten-cute-squat-3000x2000.jpg?format=1500w)\n",
        "\n",
        "[🌎 &nbsp;Image Source](http://www.british-shorthair-kitten.com/)\n",
        "\n",
        "#### Confusion Matrix\n",
        "\n",
        "You fit the model with your training data, you ask it for predictions on the test set and now you have two results: the ground truth **y** that was part of your dataset and the predictions **ŷ** that have just been yielded by your machine learning algorithm. So how do you assess your model in this particular scenario? One way is to build a **confusion matrix**, like the one below:\n",
        "\n",
        "![confusion-matrix](https://glassboxmedicine.files.wordpress.com/2019/02/confusion-matrix.png?w=816)\n",
        "\n",
        "[🌎 &nbsp;Image Source](https://glassboxmedicine.com/2019/02/17/measuring-performance-the-confusion-matrix/)\n",
        "\n",
        "Now don’t get confused (excuse the pun 🤦. It’s actually quite simple to interpret it. There are **4 possible predictions** yielded by your binary classifier:\n",
        "\n",
        "  * **True Positives (y = ŷ and ŷ=”cat”):**\n",
        "the model identified a cat in the image and in that image it is actually a cat.\n",
        "\n",
        "  * **False Positives (y != ŷ and ŷ=”cat”):**\n",
        "the model identified a cat in the image, but there was no cat in the image.\n",
        "\n",
        "  * **False Negatives (y != ŷ and ŷ=”non-cat”):**\n",
        "the model did not recognize a cat in the image, but there was a cat in the image.\n",
        "\n",
        "  * **True Negatives (y = ŷ and ŷ=”non-cat”):**\n",
        "the model did not recognize a cat in the image and in the image there was no cat indeed.\n",
        "\n",
        "---\n",
        "> ### 🚨🚨🚨 The **first step** in analyzing the performance of a **classifier** is to build a **confusion matrix**!\n",
        "---\n",
        "\n",
        "These 4 scenarios can have different levels of importance, depending on the problem one wants to solve. For a smart antivirus, keeping the number of false negatives as low as possible is crucial, even if that means an increase in the false positives. Naturally, it’s better to have annoying warnings than having your computer infected because the antivirus was unable to identify the threat. But if you don’t necessarily have unusual requirements for you model and you just want to assess its generic performance, there are 3 metrics that can be inferred from this matrix:\n",
        "\n",
        "#### Accuracy\n",
        "\n",
        "This is the most intuitive metric and represents the number of correctly predicted labels over the number of total predictions, the actual value of prediction (positive or negative) being irrelevant. Again, judging the model by this single metric can be misleading. Consider the case of credit card transaction frauds. There could be a lot of transactions that are perfectly valid, but only a handful of them are frauds. A model that trains on this data could learn to predict that all of the transactions are safe and the ones that are fraudulent are just outliers. Calculating the accuracy on a dataset of 1 million transactions would yield 99.9%. But our model is useless, because letting 1000 frauds unnoticed cannot be allowed.\n",
        "\n",
        "![accuracy](https://ocw.cs.pub.ro/courses/_media/ep/labs/16._accuracy.png?w=400&tok=dbbf3b)\n",
        "\n",
        "#### Precision\n",
        "\n",
        "The precision is the total number of correctly classified positive examples divided by the total number of predicted positive examples. If the precision is very high, the probability for our model of classifying non-cat images as cat images is quite low.\n",
        "\n",
        "![precision](https://ocw.cs.pub.ro/courses/_media/ep/labs/17._precision.png?w=400&tok=eca58f)\n",
        "\n",
        "#### Recall\n",
        "\n",
        "The recall is the total number of correctly classified positive examples divided by the total number of actual positive examples. If the recall is very high, the probability for our model of misclassifying cat images is quite low.\n",
        "\n",
        "![recall](https://ocw.cs.pub.ro/courses/_media/ep/labs/18._recall.png?w=400&tok=57e5df)\n",
        "\n",
        "When you have **high recall** and **low precision**, most of the cat images are correctly recognized, but there are a lot of false positives. In contrast, when you have **low recall** and **high precision**, we miss a lot of cat images, but those predicted as cat images have a high probability of being indeed cat images and not something else.\n",
        "\n",
        "![confusion-matrix-sketch](https://miro.medium.com/max/1854/1*uR09zTlPgIj5PvMYJZScVg.png)\n",
        "\n",
        "[🌎 &nbsp;Image Source](https://towardsdatascience.com/understanding-confusion-matrix-a9ad42dcfd62)\n",
        "\n",
        "#### F1 Score\n",
        "\n",
        "Ideally, you would want to have both **high recall** and **high precision**, but that is not always possible. So you can choose the trade-off you are most comfortable with or you can combine the 2 metrics into 1, by using the **F1 score**, which is actually the harmonic mean of the 2:\n",
        "\n",
        "![f1-score](https://ocw.cs.pub.ro/courses/_media/ep/labs/19._f1_score.png?w=400&tok=1b9b39)\n",
        "\n",
        "This single metric is more generic, goes from **0** (worst) to **1** (best) and together with accuracy, can give you a solid intuition on the performance of your model.\n",
        "\n",
        "---\n",
        "> ### 🚨🚨🚨 From the **confusion matrix** you can extract the **accuracy**, **precision** and **recall**!\n",
        "---\n",
        "\n",
        "#### Generic Confusion Matrix\n",
        "\n",
        "Don’t take the terms “positive” and “negative” written in the confusion matrix above literally! They are actually placeholders for the 2 classes (“cat” and “non-cat”) the model is trying to predict. This means that you can use more generic classes like “cat” and “dog” or “human” and “animal”, depending on the problem you want to solve. As a consequence, **each metric** (accuracy, precision, recall or F1 score) is computed **per class** and if you want to obtain a **generic score** for the model, you must compute their **average**. For instance, if you have a recall of **0.6** for \"**cat**\" and **0.5** for \"**dog**\", the **average recall** of the model will be **0.55**.\n",
        "\n",
        "Consequently, the confusion matrix can be generalized to more than 2 classes (see the image below), having the same metrics and ways of computing them.\n",
        "\n",
        "![generic-confusion-matrix](https://res.cloudinary.com/practicaldev/image/fetch/s--cRGF5_MX--/c_limit%2Cf_auto%2Cfl_progressive%2Cq_auto%2Cw_880/https://thepracticaldev.s3.amazonaws.com/i/hri4evvbu1t2v7mmmvct.png)\n",
        "\n",
        "[🌎 &nbsp;Image Source](https://dev.to/overrideveloper/understanding-the-confusion-matrix-264i)\n",
        "\n",
        "\n",
        "\n"
      ]
    },
    {
      "cell_type": "markdown",
      "metadata": {
        "id": "A4x2EA9fnBL1"
      },
      "source": [
        "### C. Regression Problems\n",
        "\n",
        "As it was previously mentioned, **supervised machine learning** can also imply solving **regression tasks**, where a **numerical** or **continuous** value is used as a label. Let’s take an example. Suppose that you want to predict the budget for an advertisement campaign, based on the revenue of the company. For this task, your model will learn from a training set of (X, y) pairs and will try to find the best **ĥ** that approximates the behaviour of the function **f(X) = y**. If we assume that the relationship between the two is **linear**, your model must learn how to **draw a line** that fits the points (X, y) the best. A visual representation can be seen in the figure below:\n",
        "\n",
        "![linear-regression](https://stackabuse.s3.amazonaws.com/media/multiple-linear-regression-with-python-1.png)\n",
        "\n",
        "[🌎 &nbsp;Image Source](https://stackabuse.com/multiple-linear-regression-with-python/)\n",
        "\n",
        "#### Root Mean Squared Error\n",
        "\n",
        "But how do we know if that line is drawn correctly? Well, first we must define an **error** or **loss function** that can mathematically indicate us how far from the points the line has been drawn. In linear regression tasks, the most common approach is to use the **root mean squared error (RMSE)**, depicted below. You can sometimes get rid of the root and just compute the **MSE** to avoid extra computations.\n",
        "\n",
        "![rmse](https://ocw.cs.pub.ro/courses/_media/ep/labs/20._rmse.png?w=400&tok=535cdc)\n",
        "\n",
        "In this formula, **y<sub>j</sub>** is the ground truth and **ŷ<sub>j</sub>** is the result of the partially learned function **ĥ(X<sub>j</sub>)**. Basically, the model must apply successive corrections to ĥ, such that the predicted ŷ<sub>j</sub> values lead to a smaller RMSE. This process of minimizing the loss is also called **optimization** and is one of the foundational principles of machine learning. You can find more about it [here](https://towardsdatascience.com/linear-regression-using-gradient-descent-97a6c8700931).\n",
        "\n",
        "Similarly to the classification tasks, for regression problems, the value of the RMSE can be used as a **performance metric** for the model.\n",
        "\n",
        "#### R² Correlation\n",
        "\n",
        "Now let’s say that your model was properly trained and you have some predicted labels **ŷ** and some ground truth values **y**. In the case of classification problems, with these two pieces of information you could immediately compute the F1 score or the accuracy. But with regression, a 0 to 1 score cannot be simply derived. One metric that can be used however, is the **R<sup>2</sup> correlation** and it is computed using the following formula:\n",
        "\n",
        "![r2-correlation](https://ocw.cs.pub.ro/courses/_media/ep/labs/21._r-squared_score.png?w=400&tok=30c26d)\n",
        "\n",
        "where **ŷ<sub>j</sub>** is the predicted value, **ÿ** is the mean of the ground truth labels and **y<sub>j</sub>** is the ground truth. This score lies between **-∞** and **1** and has the following interpretation:\n",
        "\n",
        "  * **Close to 1:** high positive linear correlation between X and y\n",
        "  * **Close to 0:** a linear correlation between X and y cannot be identified\n",
        "  * **Close to -∞:** high negative linear correlation between X and y\n",
        "\n",
        "These 3 scenarios are visually represented in the figures below:\n",
        "\n",
        "![correlation-types](https://statistics.laerd.com/statistical-guides/img/pearson-1-small.png)\n",
        "\n",
        "[🌎 &nbsp;Image Source](https://statistics.laerd.com/stata-tutorials/pearsons-correlation-using-stata.php)\n",
        "\n",
        "\n"
      ]
    },
    {
      "cell_type": "markdown",
      "metadata": {
        "id": "trKKzpYuusfa"
      },
      "source": [
        "---\n",
        "> ### 🚨🚨🚨 For **regression tasks** you can use **RMSE** and **R-squared score** as performance metrics!\n",
        "---"
      ]
    },
    {
      "cell_type": "markdown",
      "metadata": {
        "id": "FSevKrJ_okWi"
      },
      "source": [
        "### D. Underfitting vs Overfitting\n",
        "\n",
        "Splitting the data into a **training set** and a **test set** is not only helping us to determine the **accuracy** or **error** of the model’s predictions, but can also give us an insight about its **behaviour** or **generalization capabilities**.\n",
        "\n",
        "Let’s take a trained binary classifier as an example and the accuracy as a performance metric. If it has a **small test score**, but a **high training score**, the model relied too much on the training data and is not able to generalize well on entries that has never seen before. In this case, we say that it has **overfit** the training data. In this particular case, the model is said to have a **high variance**. In contrast, if the model learned a function that is too generic, the problem of **underfitting** or **high bias** occurs. This time, the problem can be inferred from a **training score** that is **too small**. These situations were visually represented in the figures below:\n",
        "\n",
        "![fitting](https://miro.medium.com/max/1400/1*JZbxrdzabrT33Yl-LrmShw.png)\n",
        "\n",
        "[🌎 &nbsp;Image Source](https://medium.com/greyatom/what-is-underfitting-and-overfitting-in-machine-learning-and-how-to-deal-with-it-6803a989c76)\n",
        "\n",
        "The underlying causes of the aforementioned problems depend heavily on the model and how its **hyperparameters** were fine-tuned. Discussing them is outside the scope of this laboratory class, but one can learn more about those topics from these articles: [Underfitting & Overfitting](https://towardsdatascience.com/what-are-overfitting-and-underfitting-in-machine-learning-a96b30864690) and [Hyperparameters](https://towardsdatascience.com/understanding-hyperparameters-and-its-optimisation-techniques-f0debba07568)."
      ]
    },
    {
      "cell_type": "markdown",
      "metadata": {
        "id": "Xl3ZolRrvEg1"
      },
      "source": [
        "---\n",
        "> ### 🚨🚨🚨 Besides looking at the usual **performance metrics**, one must also notice if the model **appropriately fits** the data!\n",
        "---"
      ]
    },
    {
      "cell_type": "markdown",
      "metadata": {
        "id": "cO3kOM-EpVCs"
      },
      "source": [
        "### E. Clustering Algorithms\n",
        "\n",
        "In the end, we should talk a little bit about **unsupervised learning**. As you already know, for such tasks, there is **no ground truth** - just a set of X values that might have some **underlying structure** or **pattern** that can be learned. Evaluating a model without having something as reference might seem a pretty difficult task. And in some scenarios, you might be right!\n",
        "\n",
        "Say that we wanted to group images containing handwritten digits into **clusters** and at the end of the learning process, our model grouped the data like this:\n",
        "\n",
        "![digit-clustering](https://miro.medium.com/max/3200/1*R7A0qNVuOjgGh6pj4WUq5A.png)\n",
        "\n",
        "[🌎 &nbsp;Image Source](https://towardsdatascience.com/graduating-in-gans-going-from-understanding-generative-adversarial-networks-to-running-your-own-39804c283399)\n",
        "\n",
        "At first glance, the clustering outcome looks good, but how can we express this “good-looking” result in a more formal manner? One solution is to measure how compact the clusters are, yet distant from one another, by computing a **silhouette score**. Because the formulas are too cumbersome to write in here, I will leave you a [link](https://en.wikipedia.org/wiki/Silhouette_(clustering)), where everything is explained clearly. However, one might understand the concept by looking at this simple example:\n",
        "\n",
        "![silhouette-score](https://lh4.googleusercontent.com/-ku6hE_438mo/TXA0yYUWLTI/AAAAAAAAACs/UqtvwlXLkc0/s320/picture2.gif)\n",
        "\n",
        "[🌎 &nbsp;Image Source](http://blog.data-miners.com/2011/03/cluster-silhouettes.html)\n"
      ]
    },
    {
      "cell_type": "markdown",
      "metadata": {
        "id": "d47Gl2yeksCZ"
      },
      "source": [
        "**Exercise 0: Prerequisite**\n",
        "\n",
        "Import the necessary libraries and define some printing functions for later use."
      ]
    },
    {
      "cell_type": "code",
      "metadata": {
        "id": "PlI5jmW3XnTr"
      },
      "source": [
        "# Import the necessary libraries\n",
        "import numpy as np\n",
        "import pandas as pd\n",
        "import matplotlib.pyplot as plt\n",
        "from sklearn.linear_model import LinearRegression\n",
        "from sklearn.tree import DecisionTreeClassifier\n",
        "from sklearn.model_selection import train_test_split\n",
        "from sklearn.cluster import KMeans\n",
        "from sklearn.datasets import make_blobs"
      ],
      "execution_count": 11,
      "outputs": []
    },
    {
      "cell_type": "code",
      "metadata": {
        "id": "ncBYKmhFaZJs"
      },
      "source": [
        "# Load various printing functions\n",
        "\n",
        "# Pretty prints a data frame without display limits\n",
        "def print_df(df):\n",
        "    with pd.option_context('display.max_rows', None, 'display.max_columns', None):\n",
        "        print(df)\n",
        "\n",
        "\n",
        "# Pretty prints the results of the classifier performance evaluation\n",
        "def print_classifier_results(accuracy, precision, recall, f1, mode):\n",
        "    print()\n",
        "    print('~~~~~~~~~~~~~~~~ CLASSIFICATION RESULTS (' + mode.upper() + ') ~~~~~~~~~~~~~~~~')\n",
        "    print(' Accuracy: ' + str(accuracy))\n",
        "    print('Precision: ' + str(precision))\n",
        "    print('   Recall: ' + str(recall))\n",
        "    print(' F1 Score: ' + str(f1))\n",
        "\n",
        "\n",
        "# Pretty prints the results of the regressor performance evaluation\n",
        "def print_regressor_results(rmse, mae, r_squared, mode):\n",
        "    print()\n",
        "    print('~~~~~~~~~~~~~~~~ REGRESSION RESULTS (' + mode.upper() + ') ~~~~~~~~~~~~~~~~')\n",
        "    print('Root Mean Squared Error (RMSE): ' + str(rmse))\n",
        "    print('     Mean Absolute Error (MAE): ' + str(mae))\n",
        "    print('               R-squared Score: ' + str(r_squared))\n",
        "\n",
        "\n",
        "# Pretty prints the results of the multiple classifications\n",
        "def print_fitting_results(accuracy_list):\n",
        "\n",
        "    print()\n",
        "    print('~~~~~~~~~~~~~~~~ CLASSIFICATION RESULTS ~~~~~~~~~~~~~~~~')\n",
        "\n",
        "    for accuracy_pair in accuracy_list:\n",
        "        print('Training Set Accuracy 1: ' + str(accuracy_pair[0]))\n",
        "        print('    Test Set Accuracy 1: ' + str(accuracy_pair[1]))\n",
        "        print()\n",
        "\n",
        "\n",
        "# Pretty prints the results of the clustering algorithm\n",
        "def print_clustering_results(silhouette_score):\n",
        "\n",
        "    print()\n",
        "    print('~~~~~~~~~~~~~~~~ CLUSTERING RESULTS ~~~~~~~~~~~~~~~~')\n",
        "    print('Silhouette Score: ' + str(silhouette_score))\n"
      ],
      "execution_count": 12,
      "outputs": []
    },
    {
      "cell_type": "markdown",
      "metadata": {
        "id": "JtnzaEOtgxHl"
      },
      "source": [
        "**Exercise 1: Classification (30p)**\n",
        "\n",
        "In this exercise, you will learn how to properly evaluate a **classifier**. We chose a **decision tree** for this example, but feel free to explore other alternatives. You can find out more about decision trees [here](https://towardsdatascience.com/decision-trees-explained-3ec41632ceb6). For all the associated tasks, you will use the [diabetes.csv](https://github.com/vladastefanescu/machine-learning-introduction/blob/main/diabetes.csv) dataset. The model must learn to determine whether the patient suffers from diabetes (**0** or **1**) by looking at a dataset with the following **features**:\n",
        "\n",
        "  * Number of pregnancies\n",
        "  * Glucose level\n",
        "  * Blood pressure\n",
        "  * Skin thickness\n",
        "  * Insulin level\n",
        "  * Body Mass Index (BMI)\n",
        "  * Diabetes pedigree function (likelihood of diabetes based on family history)\n",
        "  * Age"
      ]
    },
    {
      "cell_type": "code",
      "metadata": {
        "colab": {
          "base_uri": "https://localhost:8080/"
        },
        "id": "XK-CVa-Lg1y6",
        "outputId": "b10e2d0f-6d25-4893-f881-8bc1e0f3e8be"
      },
      "source": [
        "# Load the dataset from the local session folder\n",
        "classification_dataset = pd.read_csv(\"https://raw.githubusercontent.com/vladastefanescu/machine-learning-introduction/main/diabetes.csv\")\n",
        "\n",
        "# Take a look at the first entries of the dataset\n",
        "print_df(classification_dataset.head())"
      ],
      "execution_count": 13,
      "outputs": [
        {
          "output_type": "stream",
          "name": "stdout",
          "text": [
            "   Pregnancies  Glucose  BloodPressure  SkinThickness  Insulin   BMI  \\\n",
            "0            6      148             72             35        0  33.6   \n",
            "1            1       85             66             29        0  26.6   \n",
            "2            8      183             64              0        0  23.3   \n",
            "3            1       89             66             23       94  28.1   \n",
            "4            0      137             40             35      168  43.1   \n",
            "\n",
            "   DiabetesPedigreeFunction  Age  Outcome  \n",
            "0                     0.627   50        1  \n",
            "1                     0.351   31        0  \n",
            "2                     0.672   32        1  \n",
            "3                     0.167   21        0  \n",
            "4                     2.288   33        1  \n"
          ]
        }
      ]
    },
    {
      "cell_type": "code",
      "metadata": {
        "id": "YikM5ILSiRK5"
      },
      "source": [
        "# Extract the features from the dataset\n",
        "classification_X = classification_dataset.iloc[:, :-1]\n",
        "\n",
        "# Extract the labels from the dataset\n",
        "classification_y = classification_dataset.iloc[:, -1:]"
      ],
      "execution_count": 14,
      "outputs": []
    },
    {
      "cell_type": "code",
      "metadata": {
        "id": "8e-Ev9JRid7F"
      },
      "source": [
        "# Split the data into a training set and a test set with a 80-20 ratio\n",
        "classification_X_train, classification_X_test, classification_y_train, classification_y_test = train_test_split(classification_X, classification_y, test_size=0.2, random_state=42)"
      ],
      "execution_count": 15,
      "outputs": []
    },
    {
      "cell_type": "code",
      "metadata": {
        "id": "MTyLuOBGiqxj"
      },
      "source": [
        "# Build a classifier (less important: a decision tree will be used)\n",
        "classifier = DecisionTreeClassifier(random_state=42)\n",
        "\n",
        "# Fit data from the training set to the classifier\n",
        "classifier.fit(classification_X_train, classification_y_train)\n",
        "\n",
        "# Make predictions on the test set\n",
        "classification_y_pred = classifier.predict(classification_X_test)"
      ],
      "execution_count": 16,
      "outputs": []
    },
    {
      "cell_type": "markdown",
      "metadata": {
        "id": "l0R2wgNpi4Aq"
      },
      "source": [
        "**Task A (15p)**\n",
        "\n",
        "Evaluate the classifier by **manually** computing the **accuracy**, **precision**, **recall** and **F1 score**. These metrics are derived from the **confusion matrix** but you don't have to build this matrix yourself. You can use [Scikit-learn](https://www.google.com/search?q=scikit-learn+confusion+matrix&oq=scikit-learn+confusion+matrix) for that."
      ]
    },
    {
      "cell_type": "code",
      "metadata": {
        "id": "OBVsEPkwi8LL"
      },
      "source": [
        "# Computes the accuracy of the model using the confusion matrix\n",
        "def compute_accuracy(cm):\n",
        "    # TODO - TASK A\n",
        "    accuracy = None\n",
        "\n",
        "    return accuracy"
      ],
      "execution_count": 17,
      "outputs": []
    },
    {
      "cell_type": "code",
      "metadata": {
        "id": "RgXU3QoHjBku"
      },
      "source": [
        "# Computes the precision of the model using the confusion matrix\n",
        "def compute_precision(cm):\n",
        "    # TODO - TASK A\n",
        "    precision = None\n",
        "\n",
        "    return precision"
      ],
      "execution_count": 18,
      "outputs": []
    },
    {
      "cell_type": "code",
      "metadata": {
        "id": "b2fTgY3VjDGl"
      },
      "source": [
        "# Computes the recall of the model using the confusion matrix\n",
        "def compute_recall(cm):\n",
        "    # TODO - TASK A\n",
        "    recall = None\n",
        "\n",
        "    return recall"
      ],
      "execution_count": 19,
      "outputs": []
    },
    {
      "cell_type": "code",
      "metadata": {
        "id": "cQfdlB9TjFfw"
      },
      "source": [
        "# Computes the F1 score of the model using the precision and recall\n",
        "def compute_f1_score(precision, recall):\n",
        "    # TODO - TASK A\n",
        "    f1 = None\n",
        "\n",
        "    return f1"
      ],
      "execution_count": 20,
      "outputs": []
    },
    {
      "cell_type": "markdown",
      "metadata": {
        "id": "Jp4RE1G70fFn"
      },
      "source": [
        "Before anything else, we must compute the **confusion matrix**. Luckily, the **metrics** package of the *Scikit-learn* library has just the right function for this task:\n",
        "\n",
        "```\n",
        "cm = confusion_matrix(y_test, y_pred)\n",
        "cm[0][0], cm[1][1] = cm[1][1], cm[0][0]\n",
        "```\n",
        "\n",
        "---\n",
        "> #### 🚨🚨🚨 Please note that in order to compute a binary confusion matrix that looks just like the ones used in the above diagrams, a small swap has to be performed.\n",
        "---\n",
        "\n",
        "For this exercise we simply identify the **TP**, **TN**, **FP**, **FN** terms on the **confusion matrix** and then compute the various metrics using their formulas. For instance, for the **precision**, we can write the following lines of code:\n",
        "\n",
        "```\n",
        "precision = cm[0][0] / (cm[0][0] + cm[0][1])\n",
        "```\n",
        "\n",
        "---\n",
        "> #### 🚨🚨🚨 You should be able to compute the **accuracy**, **recall** and **F1 score** by yourself.\n",
        "---"
      ]
    },
    {
      "cell_type": "code",
      "metadata": {
        "colab": {
          "base_uri": "https://localhost:8080/"
        },
        "id": "kDyqs3O2jLku",
        "outputId": "15904407-f7f1-497f-caa1-f7f44a7906ef"
      },
      "source": [
        "# TODO - TASK A\n",
        "cm = None\n",
        "\n",
        "task_a_accuracy = compute_accuracy(cm)\n",
        "task_a_precision = compute_precision(cm)\n",
        "task_a_recall = compute_recall(cm)\n",
        "task_a_f1 = compute_f1_score(task_a_precision, task_a_recall)\n",
        "\n",
        "print_classifier_results(task_a_accuracy, task_a_precision, task_a_recall, task_a_f1, 'dumb')"
      ],
      "execution_count": 21,
      "outputs": [
        {
          "output_type": "stream",
          "name": "stdout",
          "text": [
            "\n",
            "~~~~~~~~~~~~~~~~ CLASSIFICATION RESULTS (DUMB) ~~~~~~~~~~~~~~~~\n",
            " Accuracy: None\n",
            "Precision: None\n",
            "   Recall: None\n",
            " F1 Score: None\n"
          ]
        }
      ]
    },
    {
      "cell_type": "markdown",
      "metadata": {
        "id": "BEXMPg8UjdOI"
      },
      "source": [
        "**Task B (15p)**\n",
        "\n",
        "Evaluate the classifier using the **metrics** package from the *Scikit-learn* library. Again, **accuracy**, **precision**, **recall** and **F1 score** are required.\n",
        "\n",
        "---\n",
        "> #### 🚨🚨🚨 **HINT:** There are 2 *Scikit-learn* functions that will help you with this computation: **accuracy_score** and **precision_recall_fscore_support**. Because we are computing these metrics on a binary classifier, think about what is the suitable value for the **average** parameter of the **precision_recall_fscore_support** function.\n",
        "---"
      ]
    },
    {
      "cell_type": "code",
      "metadata": {
        "colab": {
          "base_uri": "https://localhost:8080/"
        },
        "id": "CxfOFZFWjfEl",
        "outputId": "d17060a7-c57c-4b7a-d437-64b9598d20d3"
      },
      "source": [
        "# TODO - TASK B\n",
        "task_b_accuracy = None\n",
        "task_b_precision, task_b_recall, task_b_f1, _ = None, None, None, None\n",
        "\n",
        "print_classifier_results(task_b_accuracy, task_b_precision, task_b_recall, task_b_f1, 'smart')"
      ],
      "execution_count": 22,
      "outputs": [
        {
          "output_type": "stream",
          "name": "stdout",
          "text": [
            "\n",
            "~~~~~~~~~~~~~~~~ CLASSIFICATION RESULTS (SMART) ~~~~~~~~~~~~~~~~\n",
            " Accuracy: None\n",
            "Precision: None\n",
            "   Recall: None\n",
            " F1 Score: None\n"
          ]
        }
      ]
    },
    {
      "cell_type": "markdown",
      "metadata": {
        "id": "du9LS4X1b_H-"
      },
      "source": [
        "**Exercise 2: Linear Regression (40p)**\n",
        "\n",
        "In this exercise, you will learn how to properly evaluate a **regression model**. We chose a **simple linear regressor** for this example, but feel free to explore other alternatives. You can find out more about linear regressors [here](https://www.kdnuggets.com/2019/03/beginners-guide-linear-regression-python-scikit-learn.html). For all the associated tasks, you will use the [weather.csv](https://github.com/vladastefanescu/machine-learning-introduction/blob/main/weather.csv) dataset. The model must learn to determine what is the **maximum temperature** for a certain day (**y**) based on the **minimum temperature** (**X**).\n"
      ]
    },
    {
      "cell_type": "code",
      "metadata": {
        "id": "3GDNE91bZXlO",
        "colab": {
          "base_uri": "https://localhost:8080/"
        },
        "outputId": "5d655ef7-371d-4ae5-fdc9-b385e3a033d6"
      },
      "source": [
        "# Load the dataset from the local session folder\n",
        "regression_dataset = pd.read_csv(\"https://raw.githubusercontent.com/vladastefanescu/machine-learning-introduction/main/weather.csv\", dtype=np.float64)\n",
        "\n",
        "# Take a look at the first entries of the dataset\n",
        "print_df(regression_dataset.head())"
      ],
      "execution_count": 23,
      "outputs": [
        {
          "output_type": "stream",
          "name": "stdout",
          "text": [
            "     MinTemp    MaxTemp\n",
            "0  22.222222  25.555556\n",
            "1  21.666667  28.888889\n",
            "2  22.222222  26.111111\n",
            "3  22.222222  26.666667\n",
            "4  21.666667  26.666667\n"
          ]
        }
      ]
    },
    {
      "cell_type": "code",
      "metadata": {
        "id": "lDCUAdnEawwg"
      },
      "source": [
        "# Extract the features from the dataset\n",
        "regression_X = regression_dataset.iloc[:, :-1]\n",
        "\n",
        "# Extract the labels from the dataset\n",
        "regression_y = regression_dataset.iloc[:, -1:]"
      ],
      "execution_count": 24,
      "outputs": []
    },
    {
      "cell_type": "code",
      "metadata": {
        "id": "nBhA_77fbDqT"
      },
      "source": [
        "# Split the data into a training set and a test set with a 80-20 ratio\n",
        "regression_X_train, regression_X_test, regression_y_train, regression_y_test = train_test_split(regression_X, regression_y, test_size=0.2, random_state=42)"
      ],
      "execution_count": 25,
      "outputs": []
    },
    {
      "cell_type": "code",
      "metadata": {
        "id": "bhKiXZGbbd-_"
      },
      "source": [
        "# Build a linear regressor\n",
        "regressor = LinearRegression()\n",
        "\n",
        "# Fit data from the training set to the regressor\n",
        "regressor.fit(regression_X_train, regression_y_train)\n",
        "\n",
        "# Make predictions on the test set\n",
        "regression_y_pred = regressor.predict(regression_X_test)"
      ],
      "execution_count": 26,
      "outputs": []
    },
    {
      "cell_type": "markdown",
      "metadata": {
        "id": "-lRDsGheeB_K"
      },
      "source": [
        "**Task A (15p)**\n",
        "\n",
        "Evaluate the regressor by **manually** computing the **Root Mean Squared Error (RMSE)**, **Mean Absolute Error (MAE)** and **R² score**.\n",
        "\n",
        "For instance, for the **RMSE** we simply apply the formula above:\n",
        "\n",
        "```\n",
        "rmse = list(np.sqrt(np.sum((y_test - y_pred) ** 2) / len(y_test)))[0]\n",
        "```\n",
        "\n",
        "---\n",
        "> #### 🚨🚨🚨 You should be able to compute **MAE** and **R² score** on your own!\n",
        "---\n"
      ]
    },
    {
      "cell_type": "code",
      "metadata": {
        "id": "gS__DyPheD0k"
      },
      "source": [
        "# Computes the RMSE of the model\n",
        "def compute_rmse(y_test, y_pred):\n",
        "    # TODO - TASK A\n",
        "    return None"
      ],
      "execution_count": 27,
      "outputs": []
    },
    {
      "cell_type": "markdown",
      "metadata": {
        "id": "2n8WJ8Uz3A_z"
      },
      "source": [
        "---\n",
        "> #### 🚨🚨🚨 We know that **MAE** was not covered in the first section of this laboratory class and that is why you must use your powerful [Google](https://www.google.com/search?q=mean+absolute+error&oq=mean+absolute+error) skills to solve this one. 😊\n",
        "---"
      ]
    },
    {
      "cell_type": "code",
      "metadata": {
        "id": "NlXKzdNheK9D"
      },
      "source": [
        "# Computes the MAE of the model\n",
        "def compute_mae(y_test, y_pred):\n",
        "    # TODO - TASK A\n",
        "    return None"
      ],
      "execution_count": 28,
      "outputs": []
    },
    {
      "cell_type": "code",
      "metadata": {
        "id": "hgBe8auWeRBh"
      },
      "source": [
        "# Computes the R-squared score of the model\n",
        "def compute_r2_score(y_test, y_pred):\n",
        "    # TODO - TASK A\n",
        "    return None"
      ],
      "execution_count": 29,
      "outputs": []
    },
    {
      "cell_type": "code",
      "metadata": {
        "colab": {
          "base_uri": "https://localhost:8080/"
        },
        "id": "OYe8vromehIT",
        "outputId": "d1c92556-2ac8-482c-c1e8-5b6ffa8c3e82"
      },
      "source": [
        "task_a_rmse = compute_rmse(regression_y_test, regression_y_pred)\n",
        "task_a_mae = compute_mae(regression_y_test, regression_y_pred)\n",
        "task_a_r_squared = compute_r2_score(regression_y_test, regression_y_pred)\n",
        "\n",
        "print_regressor_results(task_a_rmse, task_a_mae, task_a_r_squared, 'dumb')"
      ],
      "execution_count": 30,
      "outputs": [
        {
          "output_type": "stream",
          "name": "stdout",
          "text": [
            "\n",
            "~~~~~~~~~~~~~~~~ REGRESSION RESULTS (DUMB) ~~~~~~~~~~~~~~~~\n",
            "Root Mean Squared Error (RMSE): None\n",
            "     Mean Absolute Error (MAE): None\n",
            "               R-squared Score: None\n"
          ]
        }
      ]
    },
    {
      "cell_type": "markdown",
      "metadata": {
        "id": "BoTUTYY_e5DY"
      },
      "source": [
        "**Task B (10p)**\n",
        "\n",
        "Evaluate the regressor using the **metrics** package from the *Scikit-learn* library. Again, **RMSE**, **MAE** and **R² score** are required.\n",
        "\n",
        "---\n",
        "> #### 🚨🚨🚨 **HINT:** You might not find a function that computes the actual **RMSE**, but the **MSE**.\n",
        "---"
      ]
    },
    {
      "cell_type": "code",
      "metadata": {
        "id": "Lxpwzu6De65V"
      },
      "source": [
        "# TODO - TASK B\n",
        "task_b_rmse = None\n",
        "task_b_mae = None\n",
        "task_b_r_squared = None"
      ],
      "execution_count": 32,
      "outputs": []
    },
    {
      "cell_type": "code",
      "metadata": {
        "colab": {
          "base_uri": "https://localhost:8080/"
        },
        "id": "WCGg44NNfc8b",
        "outputId": "4c1af0a6-85c9-471c-daaa-d96c6fca7f77"
      },
      "source": [
        "print_regressor_results(task_b_rmse, task_b_mae, task_b_r_squared, 'smart')"
      ],
      "execution_count": 33,
      "outputs": [
        {
          "output_type": "stream",
          "name": "stdout",
          "text": [
            "\n",
            "~~~~~~~~~~~~~~~~ REGRESSION RESULTS (SMART) ~~~~~~~~~~~~~~~~\n",
            "Root Mean Squared Error (RMSE): None\n",
            "     Mean Absolute Error (MAE): None\n",
            "               R-squared Score: None\n"
          ]
        }
      ]
    },
    {
      "cell_type": "markdown",
      "metadata": {
        "id": "E8U4WIS-fngT"
      },
      "source": [
        "**Task C (15p)**\n",
        "\n",
        "Train the model on variously sized chunks of the original dataset and notice how the **RMSE** changes. To better illustrate the behaviour, you should build a **plot** having the **data size** on the **X axis** and the **RMSE value** on the **Y axis**. Moreover, you should be able to **explain** the observed behaviour to the assistant.\n",
        "\n",
        "Because this is rather a plotting task, we will do the hard work for you and compute the list of RMSE values for the various chunk sizes:\n",
        "\n",
        "```\n",
        "n = min(X.shape[0], max_chunk_size)\n",
        "chunk_size = int((n - min_chunk_size) / chunks)\n",
        "\n",
        "# Create 2 lists used in the plotting logic\n",
        "size_list = []\n",
        "rmse_list = []\n",
        "\n",
        "# Train a model for each chunk\n",
        "for i in range(0, chunks):\n",
        "\n",
        "    # Compute the size of the current chunk\n",
        "    size = min_chunk_size + (i + 1) * chunk_size\n",
        "    size_list.append(size)\n",
        "\n",
        "    # Select a chunk from the whole dataset\n",
        "    sample_X = X.sample(n=size, random_state=42)\n",
        "    sample_y = y.sample(n=size, random_state=42)\n",
        "\n",
        "    # Split the data into a training set and a test set with a 80-20 ratio\n",
        "    X_train, X_test, y_train, y_test = train_test_split(sample_X, sample_y, test_size=0.2, random_state=42)\n",
        "\n",
        "    # Build a linear regressor\n",
        "    regressor = LinearRegression()\n",
        "\n",
        "    # Fit data from the training set to the regressor\n",
        "    regressor.fit(X_train, y_train)\n",
        "\n",
        "    # Make predictions on the test set\n",
        "    y_pred = regressor.predict(X_test)\n",
        "\n",
        "    # Compute the rmse\n",
        "    rmse = compute_rmse(y_test, y_pred)\n",
        "    rmse_list.append(rmse)\n",
        "```\n",
        "\n",
        "Please read the code and try to understand it by following the comments. Building the plot is on you! 😊"
      ]
    },
    {
      "cell_type": "code",
      "metadata": {
        "id": "2I4toYvffzP8"
      },
      "source": [
        "# Plots the evolution of the RMSE when the dataset size varies\n",
        "def plot_rmse_evolution(X, y, chunks, min_chunk_size, max_chunk_size):\n",
        "    # TODO - TASC C\n",
        "    # HINT: See the code above\n",
        "    # Build the list of RMSE values\n",
        "\n",
        "    # TODO - TASK C\n",
        "    # Plot the RMSE evolution\n",
        "    pass"
      ],
      "execution_count": 36,
      "outputs": []
    },
    {
      "cell_type": "markdown",
      "metadata": {
        "id": "JPl0A44T4Xtl"
      },
      "source": [
        "Play with the following parameters and observe how the plot changes. Make **at least 5** changes to the chunk-related parameters. That means that **5 plots should be generated**."
      ]
    },
    {
      "cell_type": "code",
      "metadata": {
        "id": "kdph29_9gLzQ"
      },
      "source": [
        "# TODO - TASK C\n",
        "CHUNKS = 100\n",
        "MIN_CHUNK_SIZE = 1000\n",
        "MAX_CHUNK_SIZE = 1000000\n",
        "\n",
        "plot_rmse_evolution(regression_X, regression_y, CHUNKS, MIN_CHUNK_SIZE, MAX_CHUNK_SIZE)"
      ],
      "execution_count": 39,
      "outputs": []
    },
    {
      "cell_type": "markdown",
      "metadata": {
        "id": "ywIb1viTl0jl"
      },
      "source": [
        "**Exercise 3: Fitting Behaviour (15p)**\n",
        "\n",
        "In this exercise, you will learn how to properly evaluate the **data fitting behaviour** of the **binary classifier** from **exercise 1**. For all the associated tasks, you will use the [diabetes.csv](https://github.com/vladastefanescu/machine-learning-introduction/blob/main/diabetes.csv) dataset again. This time, **3 models** will be trained with different parameters and your job is to analyse their behaviour. For that, you will look at the **accuracy** of each model computed on both the **training set** and the **test set**."
      ]
    },
    {
      "cell_type": "code",
      "metadata": {
        "colab": {
          "base_uri": "https://localhost:8080/"
        },
        "id": "2rg4xLH0l3h9",
        "outputId": "12fc0826-e24d-4a02-e698-418832f1ed5b"
      },
      "source": [
        "# Load the dataset from the local session folder\n",
        "fitting_dataset = pd.read_csv(\"https://raw.githubusercontent.com/vladastefanescu/machine-learning-introduction/main/diabetes.csv\")\n",
        "\n",
        "# Take a look at the first entries of the dataset\n",
        "print_df(fitting_dataset.head())"
      ],
      "execution_count": 40,
      "outputs": [
        {
          "output_type": "stream",
          "name": "stdout",
          "text": [
            "   Pregnancies  Glucose  BloodPressure  SkinThickness  Insulin   BMI  \\\n",
            "0            6      148             72             35        0  33.6   \n",
            "1            1       85             66             29        0  26.6   \n",
            "2            8      183             64              0        0  23.3   \n",
            "3            1       89             66             23       94  28.1   \n",
            "4            0      137             40             35      168  43.1   \n",
            "\n",
            "   DiabetesPedigreeFunction  Age  Outcome  \n",
            "0                     0.627   50        1  \n",
            "1                     0.351   31        0  \n",
            "2                     0.672   32        1  \n",
            "3                     0.167   21        0  \n",
            "4                     2.288   33        1  \n"
          ]
        }
      ]
    },
    {
      "cell_type": "code",
      "metadata": {
        "id": "exi9ikYnmIV9"
      },
      "source": [
        "# Extract the features from the dataset\n",
        "fitting_X = fitting_dataset.iloc[:, :-1]\n",
        "\n",
        "# Extract the labels from the dataset\n",
        "fitting_y = fitting_dataset.iloc[:, -1:]"
      ],
      "execution_count": 41,
      "outputs": []
    },
    {
      "cell_type": "code",
      "metadata": {
        "id": "l9nlVoJjmYUP"
      },
      "source": [
        "# Split the data into a training set and a test set with a 80-20 ratio\n",
        "fitting_X_train, fitting_X_test, fitting_y_train, fitting_y_test = train_test_split(fitting_X, fitting_y, test_size=0.2, random_state=42)"
      ],
      "execution_count": 42,
      "outputs": []
    },
    {
      "cell_type": "code",
      "metadata": {
        "id": "wm_vksG6mnzd"
      },
      "source": [
        "# Build 3 different trained models\n",
        "classifiers = [DecisionTreeClassifier(max_depth=1, random_state=42).fit(fitting_X_train, fitting_y_train),\n",
        "               DecisionTreeClassifier(max_depth=5, random_state=42).fit(fitting_X_train, fitting_y_train),\n",
        "               DecisionTreeClassifier(max_depth=32, random_state=42).fit(fitting_X_train, fitting_y_train)]"
      ],
      "execution_count": 43,
      "outputs": []
    },
    {
      "cell_type": "markdown",
      "metadata": {
        "id": "zt2i2F5QnLK_"
      },
      "source": [
        "**Task A (10p)**\n",
        "\n",
        "For each model, make predictions on both the **training set** and **test set** and compute the corresponding **accuracy values**."
      ]
    },
    {
      "cell_type": "code",
      "metadata": {
        "id": "DjS8fh1mnPYA"
      },
      "source": [
        "# Makes prediction on both the training set and test set\n",
        "# HINT 1: You can reuse some code from the previous exercises\n",
        "# HINT 2: The models are already trained\n",
        "def make_predictions(clf, X_train, X_test, y_train, y_test):\n",
        "    # TODO - TASK A\n",
        "    train_accuracy = None\n",
        "    test_accuracy = None\n",
        "\n",
        "    return train_accuracy, test_accuracy"
      ],
      "execution_count": 45,
      "outputs": []
    },
    {
      "cell_type": "code",
      "metadata": {
        "colab": {
          "base_uri": "https://localhost:8080/"
        },
        "id": "6Dh0prrgm-Nq",
        "outputId": "17c064f5-55e8-432b-df4a-7ffd64a9020c"
      },
      "source": [
        "# Make predictions on the training and test sets and evaluate the performance of each model\n",
        "accuracy_list = []\n",
        "for clf in classifiers:\n",
        "    accuracy_list.append(make_predictions(clf, fitting_X_train, fitting_X_test, fitting_y_train, fitting_y_test))\n",
        "\n",
        "# Print the performance evaluation results\n",
        "print_fitting_results(accuracy_list)"
      ],
      "execution_count": 46,
      "outputs": [
        {
          "output_type": "stream",
          "name": "stdout",
          "text": [
            "\n",
            "~~~~~~~~~~~~~~~~ CLASSIFICATION RESULTS ~~~~~~~~~~~~~~~~\n",
            "Training Set Accuracy 1: None\n",
            "    Test Set Accuracy 1: None\n",
            "\n",
            "Training Set Accuracy 1: None\n",
            "    Test Set Accuracy 1: None\n",
            "\n",
            "Training Set Accuracy 1: None\n",
            "    Test Set Accuracy 1: None\n",
            "\n"
          ]
        }
      ]
    },
    {
      "cell_type": "markdown",
      "metadata": {
        "id": "kMVq5V7rne_o"
      },
      "source": [
        "**Task B (5p)**\n",
        "\n",
        "Comment the results by specifying which is the **best model** in terms of fitting and which are the models that **overfit** or **underfit** the dataset."
      ]
    },
    {
      "cell_type": "code",
      "metadata": {
        "colab": {
          "base_uri": "https://localhost:8080/",
          "height": 35
        },
        "id": "WTiKPCSOniVj",
        "outputId": "7189de29-2e29-4475-819d-045571828d68"
      },
      "source": [
        "\"\"\"\n",
        "TODO - TASK B\n",
        "\n",
        "Your conclusion here...\n",
        "\"\"\""
      ],
      "execution_count": 47,
      "outputs": [
        {
          "output_type": "execute_result",
          "data": {
            "application/vnd.google.colaboratory.intrinsic+json": {
              "type": "string"
            },
            "text/plain": [
              "'\\nTODO - TASK B\\n\\nYour conclusion here...\\n'"
            ]
          },
          "metadata": {},
          "execution_count": 47
        }
      ]
    },
    {
      "cell_type": "markdown",
      "metadata": {
        "id": "tGpHojJxn5IT"
      },
      "source": [
        "**Exercise 4: Clustering (15p)**\n",
        "\n",
        "\n",
        "In this exercise, you will learn how to properly evaluate a **clustering model**. We chose a **K-means clustering algorithm** for this example, but feel free to explore other alternatives. You can find out more about K-means clustering algorithms [here](https://towardsdatascience.com/understanding-k-means-clustering-in-machine-learning-6a6e67336aa1). For all the associated tasks, you don't have to use any input dataset, because the clusters are generated in the skeleton. The model must learn how to group together **points in a 2D space**."
      ]
    },
    {
      "cell_type": "code",
      "metadata": {
        "id": "zlpxT-zyn7i_"
      },
      "source": [
        "# NOTE: You can play around with these values\n",
        "CLUSTERS = 4\n",
        "SAMPLES = 300\n",
        "CLUSTERS_STD = 2\n",
        "\n",
        "# Generate a dataset\n",
        "clustering_X, _ = make_blobs(n_samples=SAMPLES, centers=CLUSTERS, cluster_std=CLUSTERS_STD, random_state=13)"
      ],
      "execution_count": 48,
      "outputs": []
    },
    {
      "cell_type": "code",
      "metadata": {
        "colab": {
          "base_uri": "https://localhost:8080/",
          "height": 265
        },
        "id": "K3nbWrscpUHY",
        "outputId": "dc6c0c54-66e1-45a4-dd61-03b7ff6a229d"
      },
      "source": [
        "# Plot the freshly generated blobs\n",
        "plt.scatter(clustering_X[:, 0], clustering_X[:, 1], s=50)\n",
        "plt.show()"
      ],
      "execution_count": 49,
      "outputs": [
        {
          "output_type": "display_data",
          "data": {
            "image/png": "[encoded data removed]",
            "text/plain": [
              "<Figure size 432x288 with 1 Axes>"
            ]
          },
          "metadata": {
            "needs_background": "light"
          }
        }
      ]
    },
    {
      "cell_type": "code",
      "metadata": {
        "id": "J36-gLd0pjgq"
      },
      "source": [
        "# Create a clustering model (less important: a K-means clustering algorithm will be used)\n",
        "clustering_model = KMeans(n_clusters=CLUSTERS, random_state=13)\n",
        "\n",
        "# Fit the data\n",
        "clustering_model.fit(clustering_X)\n",
        "\n",
        "# Predict a cluster number for each point\n",
        "clustering_y_pred = clustering_model.predict(clustering_X)"
      ],
      "execution_count": 50,
      "outputs": []
    },
    {
      "cell_type": "markdown",
      "metadata": {
        "id": "ZRosTyMlp6ad"
      },
      "source": [
        "Task A (5p)\n",
        "\n",
        "Compute the **silhouette score** of the model by using a *Scikit-learn* function found in the **metrics** package."
      ]
    },
    {
      "cell_type": "code",
      "metadata": {
        "colab": {
          "base_uri": "https://localhost:8080/"
        },
        "id": "nCKz4wLep9Ps",
        "outputId": "360fdaf7-135d-40cf-b8ab-7647bf1f49f4"
      },
      "source": [
        "# Compute the silhouette score of the clusters and print it\n",
        "# TODO - TASK A\n",
        "clustering_score = None\n",
        "print_clustering_results(clustering_score)"
      ],
      "execution_count": 51,
      "outputs": [
        {
          "output_type": "stream",
          "name": "stdout",
          "text": [
            "\n",
            "~~~~~~~~~~~~~~~~ CLUSTERING RESULTS ~~~~~~~~~~~~~~~~\n",
            "Silhouette Score: None\n"
          ]
        }
      ]
    },
    {
      "cell_type": "markdown",
      "metadata": {
        "id": "RMTbmHxZqHsL"
      },
      "source": [
        "Task B (10p)\n",
        "\n",
        "Fetch the **centres of the clusters** (the model should already have them ready for you 😊) and **plot** them together with a **colourful 2D representation** of the data groups. Your plot should look similar to the one below:\n",
        "\n",
        "![cluster-centers](https://ocw.cs.pub.ro/courses/_media/ep/labs/22._clustering_plot.png?w=600&tok=262dc7)\n",
        "\n",
        "You can also play around with the **standard deviation** of the generated blobs and observe the different outcomes of the clustering algorithm:\n",
        "\n",
        "```\n",
        "CLUSTERS_STD = 2\n",
        "```\n",
        "\n",
        "You should be able to discuss these observations with the assistant.\n",
        "\n",
        "---\n",
        "> #### 🚨🚨🚨 **HINT:** The **plotting code** is very similar to the one found in the skeleton. You can also [Google](https://www.google.com/search?q=plot+k+means+cluster+python) it out. 😉.\n",
        "---\n",
        "\n",
        "Look at the hint above and solve the tasks marked with **TODO - TASK B**. Make **at least 3** changes to the standard deviation. That means that **3 plots should be generated**."
      ]
    },
    {
      "cell_type": "code",
      "metadata": {
        "id": "BCriDUzpqQqS"
      },
      "source": [
        "# Fetch the centers of the clusters\n",
        "# TODO - TASK B\n",
        "\n",
        "# Pretty print the resulting clusters together with their centers\n",
        "# TODO - TASK B"
      ],
      "execution_count": 52,
      "outputs": []
    },
    {
      "cell_type": "markdown",
      "metadata": {
        "id": "qsMiJ-Pdgjpj"
      },
      "source": [
        "**Bonus: Feedback (10p)**\n",
        "\n",
        "Please take a minute to fill in the [feedback form](https://forms.gle/KHMVUhNfCPoR71Ew7) for this lab."
      ]
    }
  ]
}
